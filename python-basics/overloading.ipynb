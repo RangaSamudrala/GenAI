{
 "cells": [
  {
   "cell_type": "code",
   "execution_count": 24,
   "id": "a4407335",
   "metadata": {},
   "outputs": [
    {
     "name": "stdout",
     "output_type": "stream",
     "text": [
      "-2, -2\n",
      "Vector(-2, -2)\n"
     ]
    }
   ],
   "source": [
    "class Vector:\n",
    "\n",
    "\tdef __init__(self, x, y):\n",
    "\t\tself.x = x\n",
    "\t\tself.y = y\n",
    "\n",
    "\tdef __add__(self, other):\n",
    "\t\treturn Vector(self.x + other.x, self.y + other.y)\n",
    "\t\n",
    "\tdef __sub__(self, other):\n",
    "\t\treturn Vector(self.x - other.x, self.y - other.y)\n",
    "\n",
    "\tdef __mul__(self, other):\n",
    "\t\treturn Vector(self.x * other.x, self.y * other.y)\n",
    "\n",
    "\tdef __truediv__(self, other):\n",
    "\t\treturn Vector(self.x / other.x, self.y / other.y)\n",
    "\n",
    "\tdef __eq__(self, other):\n",
    "\t\treturn Vector(self.x == other.x, self.y ==other.y)\n",
    "\n",
    "\tdef __repr__(self):\n",
    "\t\treturn f\"Vector({self.x}, {self.y})\"\n",
    "\t\t\n",
    "\n",
    "\tdef __str__(self):\n",
    "\t\treturn f\"Vector({self.x}, {self.y})\"\n",
    "\t\t\t\n",
    "\n",
    "\n",
    "v1 = Vector(1, 2)\n",
    "v2 = Vector(3, 4)\n",
    "v3 = v1 - v2\n",
    "\n",
    "print(f\"{v3.x}, {v3.y}\")\n",
    "print(v3)\n"
   ]
  },
  {
   "cell_type": "code",
   "execution_count": null,
   "id": "f850620d",
   "metadata": {},
   "outputs": [],
   "source": []
  },
  {
   "cell_type": "code",
   "execution_count": null,
   "id": "fe05ba25",
   "metadata": {},
   "outputs": [],
   "source": []
  }
 ],
 "metadata": {
  "kernelspec": {
   "display_name": "genai",
   "language": "python",
   "name": "python3"
  },
  "language_info": {
   "codemirror_mode": {
    "name": "ipython",
    "version": 3
   },
   "file_extension": ".py",
   "mimetype": "text/x-python",
   "name": "python",
   "nbconvert_exporter": "python",
   "pygments_lexer": "ipython3",
   "version": "3.13.5"
  }
 },
 "nbformat": 4,
 "nbformat_minor": 5
}
