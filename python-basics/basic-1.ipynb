{
 "cells": [
  {
   "cell_type": "code",
   "execution_count": 1,
   "id": "cc8534b4",
   "metadata": {},
   "outputs": [
    {
     "data": {
      "text/plain": [
       "2"
      ]
     },
     "execution_count": 1,
     "metadata": {},
     "output_type": "execute_result"
    }
   ],
   "source": [
    "1+1"
   ]
  },
  {
   "cell_type": "code",
   "execution_count": 2,
   "id": "36ff62d1",
   "metadata": {},
   "outputs": [
    {
     "data": {
      "text/plain": [
       "'\\nThis is a multiple line comment\\n'"
      ]
     },
     "execution_count": 2,
     "metadata": {},
     "output_type": "execute_result"
    }
   ],
   "source": [
    "# this is a single line comment\n",
    "\n",
    "'''\n",
    "This is a multiple line comment\n",
    "'''"
   ]
  },
  {
   "cell_type": "code",
   "execution_count": 3,
   "id": "49a64ab9",
   "metadata": {},
   "outputs": [
    {
     "data": {
      "text/plain": [
       "3"
      ]
     },
     "execution_count": 3,
     "metadata": {},
     "output_type": "execute_result"
    }
   ],
   "source": [
    "i = 1\n",
    "j = 2\n",
    "i+j"
   ]
  },
  {
   "cell_type": "code",
   "execution_count": 4,
   "id": "a7d4c446",
   "metadata": {},
   "outputs": [
    {
     "data": {
      "text/plain": [
       "3"
      ]
     },
     "execution_count": 4,
     "metadata": {},
     "output_type": "execute_result"
    }
   ],
   "source": [
    "i=1; j=2; i+j"
   ]
  },
  {
   "cell_type": "code",
   "execution_count": 5,
   "id": "b8b622be",
   "metadata": {},
   "outputs": [
    {
     "name": "stdout",
     "output_type": "stream",
     "text": [
      "1\n",
      "3\n"
     ]
    }
   ],
   "source": [
    "for i in range(1, 5, 2):\n",
    "\tprint(i)"
   ]
  },
  {
   "cell_type": "code",
   "execution_count": 6,
   "id": "8a77c803",
   "metadata": {},
   "outputs": [
    {
     "name": "stdout",
     "output_type": "stream",
     "text": [
      "abcdefghijk\n"
     ]
    }
   ],
   "source": [
    "# Multi line command with back-slash\n",
    "test='abcdefg\\\n",
    "hijk'\n",
    "print(test)"
   ]
  },
  {
   "cell_type": "code",
   "execution_count": 7,
   "id": "7bfccc90",
   "metadata": {},
   "outputs": [
    {
     "name": "stdout",
     "output_type": "stream",
     "text": [
      "a\n",
      "b\n",
      "c\n",
      "d\n",
      "e\n",
      "f\n",
      "g\n",
      "h\n",
      "i\n",
      "j\n",
      "k\n"
     ]
    }
   ],
   "source": [
    "for t in test:\n",
    "\tprint(t)"
   ]
  },
  {
   "cell_type": "code",
   "execution_count": 8,
   "id": "53679d88",
   "metadata": {},
   "outputs": [
    {
     "name": "stdout",
     "output_type": "stream",
     "text": [
      "Count is: 0\n",
      "Count is: 1\n",
      "Count is: 3\n",
      "Count is: 4\n"
     ]
    }
   ],
   "source": [
    "count = 0\n",
    "while True:\n",
    "\tif count == 2:\n",
    "\t\tpass\n",
    "\telif count >= 5:\n",
    "\t\tbreak\n",
    "\telse:\n",
    "\t\tprint(f'Count is: {count}')\n",
    "\tcount += 1\n"
   ]
  },
  {
   "cell_type": "code",
   "execution_count": 9,
   "id": "d711985a",
   "metadata": {},
   "outputs": [
    {
     "name": "stdout",
     "output_type": "stream",
     "text": [
      "[2, 3, 4, 5]\n",
      "[4, 5, 6, 7, 8, 9, 10]\n",
      "[1, 2, 3]\n",
      "[7, 8, 9, 10]\n",
      "[7, 5, 3, 1]\n",
      "[10, 9, 8, 7, 6, 5, 4, 3, 2, 1]\n",
      "[6, 3]\n"
     ]
    }
   ],
   "source": [
    "numbers = [1, 2, 3, 4, 5, 6, 7, 8, 9, 10]\n",
    "print(numbers[1:5])\n",
    "print(numbers[3:])\n",
    "print(numbers[:3])\n",
    "print(numbers[6::])\n",
    "print(numbers[6::-2])\n",
    "print(numbers[::-1])\n",
    "print(numbers[5::-3])"
   ]
  },
  {
   "cell_type": "code",
   "execution_count": 10,
   "id": "8f9b95fd",
   "metadata": {},
   "outputs": [
    {
     "name": "stdout",
     "output_type": "stream",
     "text": [
      "0 1\n",
      "1 2\n",
      "2 3\n",
      "3 4\n",
      "4 5\n",
      "5 6\n",
      "6 7\n",
      "7 8\n",
      "8 9\n",
      "9 10\n"
     ]
    }
   ],
   "source": [
    "for i, n in enumerate(numbers):\n",
    "\tprint(i, n)"
   ]
  },
  {
   "cell_type": "code",
   "execution_count": 11,
   "id": "ff369923",
   "metadata": {},
   "outputs": [
    {
     "name": "stdout",
     "output_type": "stream",
     "text": [
      "[0, 1, 4, 9, 16, 25, 36, 49, 64, 81]\n"
     ]
    }
   ],
   "source": [
    "lst = []\n",
    "for n in range(10):\n",
    "\tlst.append(n**2)\n",
    "\n",
    "print(lst)"
   ]
  },
  {
   "cell_type": "code",
   "execution_count": 12,
   "id": "f2c5784e",
   "metadata": {},
   "outputs": [
    {
     "data": {
      "text/plain": [
       "[0, 1, 4, 9, 16, 25, 36, 49, 64, 81]"
      ]
     },
     "execution_count": 12,
     "metadata": {},
     "output_type": "execute_result"
    }
   ],
   "source": [
    "# Equivalent to above named list comprehension\n",
    "# [expression for item in iterable]\n",
    "[n**2 for n in range(10)]"
   ]
  },
  {
   "cell_type": "code",
   "execution_count": 13,
   "id": "6c9d1967",
   "metadata": {},
   "outputs": [
    {
     "data": {
      "text/plain": [
       "[0, 4, 16, 36, 64]"
      ]
     },
     "execution_count": 13,
     "metadata": {},
     "output_type": "execute_result"
    }
   ],
   "source": [
    "# [expression for item in iterable if condition]\n",
    "[n**2 for n in range(10) if n%2 == 0]"
   ]
  },
  {
   "cell_type": "code",
   "execution_count": 14,
   "id": "a87064e4",
   "metadata": {},
   "outputs": [
    {
     "data": {
      "text/plain": [
       "[1,\n",
       " 0,\n",
       " 0,\n",
       " 0,\n",
       " 0,\n",
       " 1,\n",
       " 1,\n",
       " 1,\n",
       " 1,\n",
       " 1,\n",
       " 1,\n",
       " 2,\n",
       " 4,\n",
       " 8,\n",
       " 16,\n",
       " 1,\n",
       " 3,\n",
       " 9,\n",
       " 27,\n",
       " 81,\n",
       " 1,\n",
       " 4,\n",
       " 16,\n",
       " 64,\n",
       " 256,\n",
       " 1,\n",
       " 5,\n",
       " 25,\n",
       " 125,\n",
       " 625,\n",
       " 1,\n",
       " 6,\n",
       " 36,\n",
       " 216,\n",
       " 1296,\n",
       " 1,\n",
       " 7,\n",
       " 49,\n",
       " 343,\n",
       " 2401,\n",
       " 1,\n",
       " 8,\n",
       " 64,\n",
       " 512,\n",
       " 4096,\n",
       " 1,\n",
       " 9,\n",
       " 81,\n",
       " 729,\n",
       " 6561]"
      ]
     },
     "execution_count": 14,
     "metadata": {},
     "output_type": "execute_result"
    }
   ],
   "source": [
    "# nested list comprehension\n",
    "[n**x for n in range(10) for x in range(5)]"
   ]
  },
  {
   "cell_type": "code",
   "execution_count": 15,
   "id": "9d98b01d",
   "metadata": {},
   "outputs": [
    {
     "name": "stdout",
     "output_type": "stream",
     "text": [
      "[[0, 'a'], [0, 'b'], [0, 'c'], [0, 'd'], [1, 'a'], [1, 'b'], [1, 'c'], [1, 'd']]\n"
     ]
    }
   ],
   "source": [
    "pair = [[i,j]  for i in range(2) for j in ['a', 'b', 'c', 'd']]\n",
    "print(pair)"
   ]
  },
  {
   "cell_type": "code",
   "execution_count": 16,
   "id": "481241a5",
   "metadata": {},
   "outputs": [
    {
     "name": "stdout",
     "output_type": "stream",
     "text": [
      "<class 'generator'>\n"
     ]
    }
   ],
   "source": [
    "tuples = ([i,j]  for i in range(2) for j in ['a', 'b', 'c', 'd'])\n",
    "print(type(tuples))"
   ]
  },
  {
   "cell_type": "code",
   "execution_count": 17,
   "id": "eb9f3a97",
   "metadata": {},
   "outputs": [
    {
     "name": "stdout",
     "output_type": "stream",
     "text": [
      "Args==> a: 1; b: 2; c: 3; d: a; e: e1\n"
     ]
    }
   ],
   "source": [
    "aList = [1, 2, 3, 4, 5, 6, 7, 'ranga']\n",
    "def printArgs(a, b, c, d, e='e1'):\n",
    "\tprint(f'Args==> a: {a}; b: {b}; c: {c}; d: {d}; e: {e}')\n",
    "\n",
    "printArgs(1, 2, 3, 'a')"
   ]
  },
  {
   "cell_type": "code",
   "execution_count": 18,
   "id": "5e257f16",
   "metadata": {},
   "outputs": [
    {
     "name": "stdout",
     "output_type": "stream",
     "text": [
      "0: 1\n",
      "1: 2\n",
      "2: 3\n",
      "3: 4\n"
     ]
    }
   ],
   "source": [
    "def printVarArgs(*args):\n",
    "\tcount = 0\n",
    "\tfor a in args:\n",
    "\t\tprint(f'{count}: {a}')\n",
    "\t\tcount += 1\n",
    "\n",
    "printVarArgs(1, 2, 3, 4)\n",
    "\t"
   ]
  },
  {
   "cell_type": "code",
   "execution_count": 19,
   "id": "01f4a6e2",
   "metadata": {},
   "outputs": [
    {
     "name": "stdout",
     "output_type": "stream",
     "text": [
      "a: 1\n",
      "b: 2\n"
     ]
    }
   ],
   "source": [
    "def printKeyWordArgs(**kwargs):\n",
    "\tfor k, v in kwargs.items():\n",
    "\t\tprint(f'{k}: {v}')\n",
    "\n",
    "printKeyWordArgs(a='1', b='2')"
   ]
  },
  {
   "cell_type": "code",
   "execution_count": 20,
   "id": "0448afe3",
   "metadata": {},
   "outputs": [
    {
     "name": "stdout",
     "output_type": "stream",
     "text": [
      "Arg: 1\n",
      "Arg: 2\n",
      "Arg: 3\n",
      "Arg: 4\n",
      "Arg: hello\n",
      "a: 1\n",
      "b: 2\n"
     ]
    }
   ],
   "source": [
    "def mixedArgs(*args, **kwargs):\n",
    "\tfor a in args:\n",
    "\t\tprint(f'Arg: {a}')\n",
    "\tfor k, v in kwargs.items():\n",
    "\t\tprint(f'{k}: {v}')\n",
    "\n",
    "mixedArgs(1, 2, 3, 4, 'hello', a=1, b=2)"
   ]
  },
  {
   "cell_type": "code",
   "execution_count": 21,
   "id": "5e18f49e",
   "metadata": {},
   "outputs": [
    {
     "name": "stdout",
     "output_type": "stream",
     "text": [
      "True\n"
     ]
    }
   ],
   "source": [
    "def isValidPassword(password):\n",
    "\tif len(password) < 16:\n",
    "\t\tprint(f'Password length should be atleast 16 characters!')\n",
    "\t\treturn False\n",
    "\t\n",
    "\tif not any(c.isdigit() for c in password):\n",
    "\t\tprint(f'Password should have atleast 1 digit!')\n",
    "\t\treturn False\n",
    "\t\n",
    "\tif not any(c.islower() for c in password):\n",
    "\t\tprint(f'Password should have atleast 1 lower case character!')\n",
    "\t\treturn False\n",
    "\t\n",
    "\tif not any(c.isupper() for c in password):\n",
    "\t\tprint(f'Password should have atleast 1 upper case character!')\n",
    "\t\treturn False\n",
    "\t\n",
    "\tif not any(c in '!@#$%^&*()_+' for c in password):\n",
    "\t\tprint(f'Password should have atleast 1 special character!')\n",
    "\t\treturn False\n",
    "\t\n",
    "\treturn True\n",
    "\n",
    "print(f'{isValidPassword(\"Ab2783jhkojfd098&*&\")}')"
   ]
  },
  {
   "cell_type": "code",
   "execution_count": 22,
   "id": "a0c0e6e7",
   "metadata": {},
   "outputs": [
    {
     "name": "stdout",
     "output_type": "stream",
     "text": [
      "3\n"
     ]
    }
   ],
   "source": [
    "add = lambda a, b: a + b\n",
    "\n",
    "print(f'{add(1,2)}')"
   ]
  },
  {
   "cell_type": "code",
   "execution_count": 23,
   "id": "fe99ae3f",
   "metadata": {},
   "outputs": [
    {
     "name": "stdout",
     "output_type": "stream",
     "text": [
      " 2 is even: True\n"
     ]
    }
   ],
   "source": [
    "even = lambda a : a % 2 == 0\n",
    "\n",
    "print(f' 2 is even: {even(2)}')"
   ]
  },
  {
   "cell_type": "code",
   "execution_count": 24,
   "id": "17f75758",
   "metadata": {},
   "outputs": [
    {
     "data": {
      "text/plain": [
       "[4, 9]"
      ]
     },
     "execution_count": 24,
     "metadata": {},
     "output_type": "execute_result"
    }
   ],
   "source": [
    "list(map(lambda x: x**2, [2, 3]))"
   ]
  },
  {
   "cell_type": "code",
   "execution_count": 25,
   "id": "0cf21936",
   "metadata": {},
   "outputs": [
    {
     "data": {
      "text/plain": [
       "['APPLE', 'BANANA', 'CHERRY']"
      ]
     },
     "execution_count": 25,
     "metadata": {},
     "output_type": "execute_result"
    }
   ],
   "source": [
    "words = ['apple', 'banana', 'cherry']\n",
    "list(map(str.upper, words))"
   ]
  },
  {
   "cell_type": "markdown",
   "id": "af9e6972",
   "metadata": {},
   "source": []
  },
  {
   "cell_type": "code",
   "execution_count": 26,
   "id": "2f30ce56",
   "metadata": {},
   "outputs": [
    {
     "data": {
      "text/plain": [
       "[1, 2, 3]"
      ]
     },
     "execution_count": 26,
     "metadata": {},
     "output_type": "execute_result"
    }
   ],
   "source": [
    "numbers_as_strs = ['1', '2', '3']\n",
    "list(map(int, numbers_as_strs))"
   ]
  },
  {
   "cell_type": "code",
   "execution_count": 27,
   "id": "90b4d483",
   "metadata": {},
   "outputs": [
    {
     "data": {
      "text/plain": [
       "['Ranga', 'Sam']"
      ]
     },
     "execution_count": 27,
     "metadata": {},
     "output_type": "execute_result"
    }
   ],
   "source": [
    "people = [{'name': 'Ranga', 'age': 60}, {'name': 'Sam', 'age': 50}]\n",
    "list(map(lambda x: x['name'], people))"
   ]
  },
  {
   "cell_type": "code",
   "execution_count": 28,
   "id": "e46b6896",
   "metadata": {},
   "outputs": [
    {
     "data": {
      "text/plain": [
       "[{'name': 'Ranga', 'age': 60}]"
      ]
     },
     "execution_count": 28,
     "metadata": {},
     "output_type": "execute_result"
    }
   ],
   "source": [
    "list(filter(lambda x: len(x['name']) > 3, people))"
   ]
  },
  {
   "cell_type": "code",
   "execution_count": 29,
   "id": "84478f5d",
   "metadata": {},
   "outputs": [
    {
     "data": {
      "text/plain": [
       "1.7724538509055159"
      ]
     },
     "execution_count": 29,
     "metadata": {},
     "output_type": "execute_result"
    }
   ],
   "source": [
    "from math import sqrt, pi\n",
    "\n",
    "sqrt(2)\n",
    "sqrt(pi)"
   ]
  },
  {
   "cell_type": "code",
   "execution_count": null,
   "id": "658c6820",
   "metadata": {},
   "outputs": [],
   "source": []
  },
  {
   "cell_type": "code",
   "execution_count": 30,
   "id": "f5fcd080",
   "metadata": {},
   "outputs": [
    {
     "name": "stdout",
     "output_type": "stream",
     "text": [
      "Requirement already satisfied: numpy in c:\\users\\samurdralar\\appdata\\local\\miniconda3\\envs\\genai\\lib\\site-packages (2.3.1)\n",
      "Note: you may need to restart the kernel to use updated packages.\n"
     ]
    }
   ],
   "source": [
    "%pip install numpy\n"
   ]
  },
  {
   "cell_type": "code",
   "execution_count": 31,
   "id": "b8321313",
   "metadata": {},
   "outputs": [],
   "source": [
    "import numpy as np"
   ]
  },
  {
   "cell_type": "code",
   "execution_count": 32,
   "id": "b298d47b",
   "metadata": {},
   "outputs": [
    {
     "name": "stdout",
     "output_type": "stream",
     "text": [
      "\n",
      "# conda environments:\n",
      "#\n",
      "base                   C:\\Users\\SamurdralaR\\AppData\\Local\\miniconda3\n",
      "genai                * C:\\Users\\SamurdralaR\\AppData\\Local\\miniconda3\\envs\\genai\n",
      "\n",
      "\n",
      "Note: you may need to restart the kernel to use updated packages.\n"
     ]
    }
   ],
   "source": [
    "%conda env list"
   ]
  },
  {
   "cell_type": "code",
   "execution_count": 33,
   "id": "c74e2abd",
   "metadata": {},
   "outputs": [
    {
     "data": {
      "text/plain": [
       "array([1, 2, 3, 4])"
      ]
     },
     "execution_count": 33,
     "metadata": {},
     "output_type": "execute_result"
    }
   ],
   "source": [
    "np.array([1,2,3,4,])"
   ]
  },
  {
   "cell_type": "code",
   "execution_count": 34,
   "id": "0f149198",
   "metadata": {},
   "outputs": [],
   "source": [
    "import custompkg.mymath as mymath"
   ]
  },
  {
   "cell_type": "code",
   "execution_count": 35,
   "id": "21fe40a1",
   "metadata": {},
   "outputs": [
    {
     "data": {
      "text/plain": [
       "4"
      ]
     },
     "execution_count": 35,
     "metadata": {},
     "output_type": "execute_result"
    }
   ],
   "source": [
    "add(1, 3)"
   ]
  },
  {
   "cell_type": "code",
   "execution_count": 36,
   "id": "d254bc07",
   "metadata": {},
   "outputs": [
    {
     "data": {
      "text/plain": [
       "'hello'"
      ]
     },
     "execution_count": 36,
     "metadata": {},
     "output_type": "execute_result"
    }
   ],
   "source": [
    "%reload_ext autoreload\n",
    "\n",
    "import custompkg.subpkg.mystr as mystr\n",
    "\n",
    "\n",
    "mystr.concatanate('hell', 'o')"
   ]
  },
  {
   "cell_type": "code",
   "execution_count": 37,
   "id": "cddc5f23",
   "metadata": {},
   "outputs": [
    {
     "name": "stdout",
     "output_type": "stream",
     "text": [
      "Array: array('i', [1, 2, 3, 4])\n"
     ]
    }
   ],
   "source": [
    "import array\n",
    "arr = array.array('i', [1, 2, 3, 4])\n",
    "print(f'Array: {arr}')"
   ]
  },
  {
   "cell_type": "code",
   "execution_count": 38,
   "id": "169af390",
   "metadata": {},
   "outputs": [
    {
     "name": "stdout",
     "output_type": "stream",
     "text": [
      "Random int: 8\n",
      "Random choice: c\n"
     ]
    }
   ],
   "source": [
    "import random\n",
    "print(f'Random int: {random.randint(1,100)}')\n",
    "print(f'Random choice: {random.choice(['a', 'b', 'c'])}')"
   ]
  },
  {
   "cell_type": "code",
   "execution_count": 39,
   "id": "c64c2d7e",
   "metadata": {},
   "outputs": [
    {
     "data": {
      "text/plain": [
       "'c:\\\\Users\\\\SamurdralaR\\\\Documents\\\\Projects\\\\Private\\\\Learning\\\\GenAI\\\\python-basics'"
      ]
     },
     "execution_count": 39,
     "metadata": {},
     "output_type": "execute_result"
    }
   ],
   "source": [
    "import os # Used for file and directory access\n",
    "os.getcwd()"
   ]
  },
  {
   "cell_type": "code",
   "execution_count": 40,
   "id": "bec2590f",
   "metadata": {},
   "outputs": [],
   "source": [
    "os.mkdir('test-mkdir')"
   ]
  },
  {
   "cell_type": "code",
   "execution_count": 41,
   "id": "641d0347",
   "metadata": {},
   "outputs": [
    {
     "data": {
      "text/plain": [
       "'basic-1-copied.ipynb'"
      ]
     },
     "execution_count": 41,
     "metadata": {},
     "output_type": "execute_result"
    }
   ],
   "source": [
    "import shutil\n",
    "shutil.copyfile('basic-1.ipynb', 'basic-1-copied.ipynb')"
   ]
  },
  {
   "cell_type": "code",
   "execution_count": 42,
   "id": "54beca93",
   "metadata": {},
   "outputs": [
    {
     "name": "stdout",
     "output_type": "stream",
     "text": [
      "json string: {\"a\": 1, \"b\": 2}\n",
      "json data type: <class 'dict'>\n",
      "json data: {'a': 1, 'b': 2}\n"
     ]
    }
   ],
   "source": [
    "import json\n",
    "data = {'a': 1, 'b': 2}\n",
    "json_str = json.dumps(data)\n",
    "print(f'json string: {json_str}')\n",
    "json_data = json.loads(json_str)\n",
    "print(f'json data type: {type(json_data)}')\n",
    "print(f'json data: {json_data}')"
   ]
  },
  {
   "cell_type": "code",
   "execution_count": 43,
   "id": "3e091f36",
   "metadata": {},
   "outputs": [],
   "source": [
    "import csv\n",
    "with open('sample.csv', mode='w', newline='') as file:\n",
    "\twriter = csv.writer(file)\n",
    "\twriter.writerow(['name', 'age', 'sex'])\n",
    "\twriter.writerow(['R', '5', 'M'])\n",
    "\twriter.writerow(['S', '4', 'F'])\n"
   ]
  },
  {
   "cell_type": "code",
   "execution_count": 44,
   "id": "101132ef",
   "metadata": {},
   "outputs": [
    {
     "name": "stdout",
     "output_type": "stream",
     "text": [
      "['name', 'age', 'sex']\n",
      "['R', '5', 'M']\n",
      "['S', '4', 'F']\n"
     ]
    }
   ],
   "source": [
    "with open('sample.csv', mode='r', newline='') as file:\n",
    "\treader = csv.reader(file)\n",
    "\tfor line in reader:\n",
    "\t\tprint(line)"
   ]
  },
  {
   "cell_type": "code",
   "execution_count": 45,
   "id": "b393ca24",
   "metadata": {},
   "outputs": [
    {
     "name": "stdout",
     "output_type": "stream",
     "text": [
      "Now: 2025-08-04 11:34:55.817684\n",
      "yesterday: 2025-08-03 11:34:55.817684\n"
     ]
    }
   ],
   "source": [
    "from datetime import datetime, timedelta\n",
    "now = datetime.now()\n",
    "print(f'Now: {now}')\n",
    "print(f'yesterday: {now - timedelta(days=1)}')\n"
   ]
  },
  {
   "cell_type": "code",
   "execution_count": 46,
   "id": "fd5784fa",
   "metadata": {},
   "outputs": [
    {
     "name": "stdout",
     "output_type": "stream",
     "text": [
      "current time: 1754321695.8295863\n",
      "current time: 1754321705.8307788\n"
     ]
    }
   ],
   "source": [
    "import time\n",
    "print(f'current time: {time.time()}')\n",
    "time.sleep(10)\n",
    "print(f'current time: {time.time()}')\n"
   ]
  },
  {
   "cell_type": "code",
   "execution_count": 47,
   "id": "66bb266e",
   "metadata": {},
   "outputs": [
    {
     "name": "stdout",
     "output_type": "stream",
     "text": [
      "matched group: Random text\n"
     ]
    }
   ],
   "source": [
    "import re\n",
    "pattern = '(^R)(.*$)'\n",
    "text = 'Random text'\n",
    "match = re.search(pattern, text)\n",
    "print(f'matched group: {match.group()}')"
   ]
  },
  {
   "cell_type": "code",
   "execution_count": 48,
   "id": "c9a01e8b",
   "metadata": {},
   "outputs": [
    {
     "name": "stdout",
     "output_type": "stream",
     "text": [
      "content: name,age,sex\n",
      "R,5,M\n",
      "S,4,F\n",
      "\n",
      "name,age,sex\n",
      "R,5,M\n",
      "S,4,F\n"
     ]
    }
   ],
   "source": [
    "with open ('sample.csv', mode='r') as file:\n",
    "\tcontent = file.read()\n",
    "\tprint(f'content: {content}')\n",
    "\tfile.close()\n",
    "\n",
    "with open ('sample.csv', mode='r') as file:\n",
    "\tfor line in file:\n",
    "\t\tprint(f'{line.strip()}')\n"
   ]
  },
  {
   "cell_type": "code",
   "execution_count": 49,
   "id": "82917900",
   "metadata": {},
   "outputs": [
    {
     "name": "stdout",
     "output_type": "stream",
     "text": [
      "name,age,sex\n",
      "R,5,M\n",
      "S,4,F\n",
      "['P', 4, 'F']\n"
     ]
    }
   ],
   "source": [
    "with open ('sample.csv', mode='a') as file:\n",
    "\t# for line in file:\n",
    "\t# \tprint(f'{line.strip()}')\n",
    "\tdata = ['P', 4, 'F']\n",
    "\tfile.write(str(data))\n",
    "\tfile.close()\n",
    "\n",
    "with open ('sample.csv', mode='r') as file:\n",
    "\tfor line in file:\n",
    "\t\tprint(f'{line.strip()}')\n",
    "\n"
   ]
  },
  {
   "cell_type": "code",
   "execution_count": 50,
   "id": "05755c76",
   "metadata": {},
   "outputs": [
    {
     "name": "stdout",
     "output_type": "stream",
     "text": [
      "Current working directory: c:\\Users\\SamurdralaR\\Documents\\Projects\\Private\\Learning\\GenAI\\python-basics\n"
     ]
    }
   ],
   "source": [
    "import os\n",
    "print(f'Current working directory: {os.getcwd()}')\n",
    "dirName = 'package'\n",
    "os.makedirs(dirName, exist_ok=True)"
   ]
  },
  {
   "cell_type": "code",
   "execution_count": 51,
   "id": "409a66c5",
   "metadata": {},
   "outputs": [
    {
     "name": "stdout",
     "output_type": "stream",
     "text": [
      "dir contents: \n",
      "[]\n",
      "dir contents: \n",
      "['basic-1-copied.ipynb', 'basic-1.ipynb', 'custompkg', 'package', 'sample.csv', 'test-mkdir']\n"
     ]
    }
   ],
   "source": [
    "items = os.listdir(dirName)\n",
    "print(f'dir contents: \\n{items}')\n",
    "\n",
    "items = os.listdir('.')\n",
    "print(f'dir contents: \\n{items}')\n"
   ]
  },
  {
   "cell_type": "code",
   "execution_count": null,
   "id": "ea052199",
   "metadata": {},
   "outputs": [],
   "source": []
  }
 ],
 "metadata": {
  "kernelspec": {
   "display_name": "genai",
   "language": "python",
   "name": "python3"
  },
  "language_info": {
   "codemirror_mode": {
    "name": "ipython",
    "version": 3
   },
   "file_extension": ".py",
   "mimetype": "text/x-python",
   "name": "python",
   "nbconvert_exporter": "python",
   "pygments_lexer": "ipython3",
   "version": "3.13.5"
  }
 },
 "nbformat": 4,
 "nbformat_minor": 5
}
